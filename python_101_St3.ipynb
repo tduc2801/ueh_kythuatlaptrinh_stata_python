{
  "nbformat": 4,
  "nbformat_minor": 0,
  "metadata": {
    "colab": {
      "provenance": [],
      "authorship_tag": "ABX9TyPX5rA/vEASotEDa5U7tsl0",
      "include_colab_link": true
    },
    "kernelspec": {
      "name": "python3",
      "display_name": "Python 3"
    },
    "language_info": {
      "name": "python"
    }
  },
  "cells": [
    {
      "cell_type": "markdown",
      "metadata": {
        "id": "view-in-github",
        "colab_type": "text"
      },
      "source": [
        "<a href=\"https://colab.research.google.com/github/tduc2801/ueh_kythuatlaptrinh_stata_python/blob/main/python_101_St3.ipynb\" target=\"_parent\"><img src=\"https://colab.research.google.com/assets/colab-badge.svg\" alt=\"Open In Colab\"/></a>"
      ]
    },
    {
      "cell_type": "code",
      "execution_count": null,
      "metadata": {
        "id": "-clcuTEdyd0_"
      },
      "outputs": [],
      "source": [
        "#python101\n"
      ]
    },
    {
      "cell_type": "code",
      "source": [
        "x = 2 #int\n",
        "price = 2.5 #float\n",
        "x =1j + 2\n",
        "print(x, type(x)) #complex\n",
        "word = '''\n",
        "Hello\n",
        "'''\n",
        "type (word)\n",
        "\n",
        "x = 2\n",
        "y = x + 1\n",
        "print(f'x={x}, y={y}')\n",
        "\n",
        "from platform import python_version\n",
        "print(\"Python Version:\", python_version())\n",
        "\n",
        "x = [\"apple\", \"banana\", \"cherry\"] #list\n",
        "x = (\"apple\", \"banana\", \"cherry\") #tuple\n",
        "x = range(6) #range --> chạy từ 0 đến 5: r(6)=[0,5], r(min, max): [min, max]\n",
        "print(x, list(x)) #iterator; chỉ cấp phát khi sử dụng (phải có list trước r mới range)\n",
        "x = {\"name\" : \"Tom\", \"age\" : 20} #dict -> (key, var)\n",
        "x = {\"apple\", \"banana\", \"cherry\"} #set\n",
        "x = frozenset({\"apple\", \"banana\", \"cherry\"})\n",
        "#frozenset -> read only\n",
        "\n",
        "x = True #bool\n",
        "print(x, type(x))\n",
        "x = b\"Hello\" #bytes\n",
        "x = bytearray(5) #bytearray\n",
        "x = memoryview(bytes(5)) #memoryview\n",
        "x = None #NoneType\n",
        "print(x, type(x))"
      ],
      "metadata": {
        "colab": {
          "base_uri": "https://localhost:8080/"
        },
        "id": "YEo--SaL0YWJ",
        "outputId": "74226169-ee44-46f3-a553-a12dfbdb2586"
      },
      "execution_count": null,
      "outputs": [
        {
          "output_type": "stream",
          "name": "stdout",
          "text": [
            "(2+1j) <class 'complex'>\n",
            "x=2, y=3\n",
            "Python Version: 3.11.13\n",
            "range(0, 6) [0, 1, 2, 3, 4, 5]\n",
            "True <class 'bool'>\n",
            "None <class 'NoneType'>\n"
          ]
        }
      ]
    },
    {
      "cell_type": "markdown",
      "source": [
        "# Mục mới"
      ],
      "metadata": {
        "id": "t0473THYykIz"
      }
    },
    {
      "cell_type": "markdown",
      "source": [
        "ép kiểu (casting)"
      ],
      "metadata": {
        "id": "2szr6R-H_uKY"
      }
    },
    {
      "cell_type": "code",
      "source": [
        "print(list(range(6)))\n",
        "print(set[1, 2, 2, 4, 5, 4])"
      ],
      "metadata": {
        "colab": {
          "base_uri": "https://localhost:8080/"
        },
        "id": "N2BWzT01ADip",
        "outputId": "f83c3ed1-e140-4119-8390-5198f1648486"
      },
      "execution_count": null,
      "outputs": [
        {
          "output_type": "stream",
          "name": "stdout",
          "text": [
            "[0, 1, 2, 3, 4, 5]\n",
            "set[1, 2, 2, 4, 5, 4]\n"
          ]
        }
      ]
    },
    {
      "cell_type": "code",
      "source": [
        "'''\n",
        "Operator Name Example\n",
        "+ Addition 7 + 2 = 9\n",
        "- Subtraction 7 - 2 = 5\n",
        "* Multiplication 7 * 2 = 14\n",
        "/ Division 7 / 2 = 3.5\n",
        "// Floor division 7 // 2 = 3 (Quotient)\n",
        "% Modulus 7 % 2 = 1 (Remainder)\n",
        "** Exponentiation 7 ** 2 = 49\n",
        "'''"
      ],
      "metadata": {
        "id": "uLyV4RKQAnob"
      },
      "execution_count": null,
      "outputs": []
    },
    {
      "cell_type": "code",
      "source": [
        "print('7 + 2 =', 7 + 2)\n",
        "print('7 - 2 =', 7 - 2)\n",
        "print('7 * 2 =', 7 * 2)\n",
        "print('7 / 2 =', 7 / 2)\n",
        "print('7 // 2 =', 7 // 2)\n",
        "print('7 % 2 =', 7 % 2)\n",
        "print('7 ** 2 =', 7 ** 2)"
      ],
      "metadata": {
        "colab": {
          "base_uri": "https://localhost:8080/"
        },
        "id": "PSUag1hWAqc5",
        "outputId": "d2d71d3f-4cd3-415c-ce64-ba54037b4ece"
      },
      "execution_count": null,
      "outputs": [
        {
          "output_type": "stream",
          "name": "stdout",
          "text": [
            "7 + 2 = 9\n",
            "7 - 2 = 5\n",
            "7 * 2 = 14\n",
            "7 / 2 = 3.5\n",
            "7 // 2 = 3\n",
            "7 % 2 = 1\n",
            "7 ** 2 = 49\n"
          ]
        }
      ]
    },
    {
      "cell_type": "code",
      "source": [
        "#boolean: true/false\n",
        "print(10 > 9)\n",
        "print(10 == 9)\n",
        "print(10 < 9)"
      ],
      "metadata": {
        "colab": {
          "base_uri": "https://localhost:8080/"
        },
        "id": "b6pf43c_A4eV",
        "outputId": "11e5158e-1f85-4cad-d44f-7cf82b9b3bd7"
      },
      "execution_count": null,
      "outputs": [
        {
          "output_type": "stream",
          "name": "stdout",
          "text": [
            "True\n",
            "False\n",
            "False\n"
          ]
        }
      ]
    },
    {
      "cell_type": "code",
      "source": [
        "# BMI Calculator in Python\n",
        "#input\n",
        "height_cm = 180\n",
        "weight_kg = 73\n",
        "#process -> đưa biến vào để hình thức hoá\n",
        "height_m = height_cm/100\n",
        "BMI = (weight_kg/(height_m**2))\n",
        "print(\"Your BMI is: \" + str(round(BMI,1))) #st(round()-> làm tròn đến số thập phân thứ nhất\n"
      ],
      "metadata": {
        "colab": {
          "base_uri": "https://localhost:8080/"
        },
        "id": "vBcqnjaUBE4c",
        "outputId": "56b89ffe-dfe8-4782-b97c-b6ec7a2acb86"
      },
      "execution_count": null,
      "outputs": [
        {
          "output_type": "stream",
          "name": "stdout",
          "text": [
            "Your BMI is: 22.5\n"
          ]
        }
      ]
    },
    {
      "cell_type": "code",
      "source": [
        "# How much is your $100 worth after 7 years?\n",
        "fv = 100 * 1.1 ** 7\n",
        "print('fv = ', round(fv, 2))\n",
        "\n",
        "#hình thức hoá\n",
        "#input\n",
        "pv = 110\n",
        "r = 0.1\n",
        "n = 7\n",
        "fv = pv*(1+r)**n\n",
        "print (print('fv = ', round(fv, 2))\n",
        ")\n",
        "\n",
        "# Future Value\n",
        "amount = 100\n",
        "interest = 10 #10% = 0.01 * 10\n",
        "years = 7\n",
        "future_value = amount * ((1 + (0.01 * interest)) ** years)\n",
        "print(round(future_value, 2))"
      ],
      "metadata": {
        "colab": {
          "base_uri": "https://localhost:8080/"
        },
        "id": "gOy03bWcCc2g",
        "outputId": "bf72031d-616d-464b-d5e1-6dd3df1e0d0a"
      },
      "execution_count": null,
      "outputs": [
        {
          "output_type": "stream",
          "name": "stdout",
          "text": [
            "fv =  194.87\n",
            "fv =  214.36\n",
            "None\n",
            "194.87\n"
          ]
        }
      ]
    },
    {
      "cell_type": "code",
      "source": [
        "#data structure\n",
        "x = [\"apple\", \"banana\", \"cherry\"] #list\n",
        "print(x, type(x))\n",
        "x = (\"apple\", \"banana\", \"cherry\") #tuple\n",
        "print(x, type(x))\n",
        "x = {\"name\" : \"Tom\", \"age\" : 20} #dict\n",
        "print(x, type(x))\n",
        "x = {\"apple\", \"banana\", \"cherry\"} #set\n",
        "print(x, type(x))\n",
        "\n",
        "x = [60, 70, 80, 90]\n",
        "print(len(x))\n",
        "print(x[0])\n",
        "print(x[1])\n",
        "print(x[-1])\n",
        "print(x[1:3])\n",
        "print(x[-1:-3])\n",
        "\n"
      ],
      "metadata": {
        "colab": {
          "base_uri": "https://localhost:8080/"
        },
        "id": "ymzXm_WxDSwQ",
        "outputId": "348ee78c-ce1b-4d63-ef5c-f8aae540ed2f"
      },
      "execution_count": null,
      "outputs": [
        {
          "output_type": "stream",
          "name": "stdout",
          "text": [
            "['apple', 'banana', 'cherry'] <class 'list'>\n",
            "('apple', 'banana', 'cherry') <class 'tuple'>\n",
            "{'name': 'Tom', 'age': 20} <class 'dict'>\n",
            "{'banana', 'apple', 'cherry'} <class 'set'>\n",
            "4\n",
            "60\n",
            "70\n",
            "90\n",
            "[70, 80]\n",
            "[]\n",
            "True\n",
            "False\n",
            "True\n",
            "3\n",
            "3\n",
            "2\n"
          ]
        }
      ]
    },
    {
      "cell_type": "code",
      "source": [
        "animals = {'cat', 'dog'}\n",
        "print('cat' in animals)\n",
        "print('fish' in animals)\n",
        "animals.add('fish')\n",
        "print('fish' in animals)\n",
        "print(len(animals))\n",
        "animals.add(\"cat\")\n",
        "print(len(animals))\n",
        "animals.remove('cat')\n",
        "print(len(animals))"
      ],
      "metadata": {
        "id": "F4DAbnksFe6C"
      },
      "execution_count": null,
      "outputs": []
    },
    {
      "cell_type": "code",
      "source": [
        "s = \"hom nay la thu 2\"\n",
        "print(list(s), len(list(s)))\n",
        "print(set(list(s))), len(set(list(s)))"
      ],
      "metadata": {
        "colab": {
          "base_uri": "https://localhost:8080/"
        },
        "id": "MFkzTxOaFkhR",
        "outputId": "6b75a923-d7db-4ed6-ad09-ba8e0d9a21b6"
      },
      "execution_count": null,
      "outputs": [
        {
          "output_type": "stream",
          "name": "stdout",
          "text": [
            "['h', 'o', 'm', ' ', 'n', 'a', 'y', ' ', 'l', 'a', ' ', 't', 'h', 'u', ' ', '2'] 16\n",
            "{'2', 'h', 'u', 'a', 'n', 'o', 't', 'y', 'l', 'm', ' '}\n"
          ]
        },
        {
          "output_type": "execute_result",
          "data": {
            "text/plain": [
              "(None, 11)"
            ]
          },
          "metadata": {},
          "execution_count": 37
        }
      ]
    },
    {
      "cell_type": "code",
      "source": [
        "s =\"hom nay la thu hai\"\n",
        "d_cnt= {}\n",
        "for ci in list(s)\n",
        "if d_cnt.get(ci) is None\n",
        "d_cnt[ci] = 1\n",
        "else:\n",
        "  d_cnt[ci] = d_cnt[ci] + 1\n",
        "print (d_cnt)"
      ],
      "metadata": {
        "colab": {
          "base_uri": "https://localhost:8080/",
          "height": 108
        },
        "id": "K5sWDgb6GGZL",
        "outputId": "70f74468-5f17-4977-8c51-bbc9620c9762"
      },
      "execution_count": null,
      "outputs": [
        {
          "output_type": "error",
          "ename": "SyntaxError",
          "evalue": "expected ':' (ipython-input-87345204.py, line 3)",
          "traceback": [
            "\u001b[0;36m  File \u001b[0;32m\"/tmp/ipython-input-87345204.py\"\u001b[0;36m, line \u001b[0;32m3\u001b[0m\n\u001b[0;31m    for ci in list(s)\u001b[0m\n\u001b[0m                     ^\u001b[0m\n\u001b[0;31mSyntaxError\u001b[0m\u001b[0;31m:\u001b[0m expected ':'\n"
          ]
        }
      ]
    },
    {
      "cell_type": "code",
      "source": [
        "fruits = [\"apple\", \"banana\", \"cherry\"] #lists []\n",
        "print(fruits, type(fruits))\n",
        "colors = (\"red\", \"green\", \"blue\") #tuples ()\n",
        "animals = {'cat', 'dog'} #sets {}\n",
        "person = {\"name\" : \"Tom\", \"age\" : 20} #dictionaries {}\n",
        "\n",
        "import pandas as pd\n",
        "pd.dataframe([person]"
      ],
      "metadata": {
        "colab": {
          "base_uri": "https://localhost:8080/",
          "height": 108
        },
        "id": "aFeR3ud6G_OI",
        "outputId": "09335580-5784-48e2-c218-170f97492a62"
      },
      "execution_count": null,
      "outputs": [
        {
          "output_type": "error",
          "ename": "SyntaxError",
          "evalue": "incomplete input (ipython-input-139872980.py, line 8)",
          "traceback": [
            "\u001b[0;36m  File \u001b[0;32m\"/tmp/ipython-input-139872980.py\"\u001b[0;36m, line \u001b[0;32m8\u001b[0m\n\u001b[0;31m    pd.dataframe([person]\u001b[0m\n\u001b[0m                         ^\u001b[0m\n\u001b[0;31mSyntaxError\u001b[0m\u001b[0;31m:\u001b[0m incomplete input\n"
          ]
        }
      ]
    },
    {
      "cell_type": "code",
      "source": [
        "# Python Lists\n",
        "expenses = [72.50, 80.75, 50.00, 90.25]\n",
        "total_expenses = sum(expenses)\n",
        "print(\"Total expenses:\", total_expenses)"
      ],
      "metadata": {
        "colab": {
          "base_uri": "https://localhost:8080/"
        },
        "id": "WT1uW79dHp0U",
        "outputId": "f1ed1517-5710-400c-d7f8-7be9d9e53cd0"
      },
      "execution_count": null,
      "outputs": [
        {
          "output_type": "stream",
          "name": "stdout",
          "text": [
            "Total expenses: 293.5\n"
          ]
        }
      ]
    },
    {
      "cell_type": "code",
      "source": [
        "# Python Tuples\n",
        "accounts = ((\"Cash\", 1001), (\"Accounts Receivable\", 1002), (\"Inventory\", 1003))\n",
        "for account in accounts:\n",
        "  print(\"Account name:\", account[0], \"Account number:\", account[1])"
      ],
      "metadata": {
        "colab": {
          "base_uri": "https://localhost:8080/"
        },
        "id": "uDteiYjFH9OW",
        "outputId": "770917c2-7cc4-4b93-e5b3-0fafa5b1de57"
      },
      "execution_count": null,
      "outputs": [
        {
          "output_type": "stream",
          "name": "stdout",
          "text": [
            "Account name: Cash Account number: 1001\n",
            "Account name: Accounts Receivable Account number: 1002\n",
            "Account name: Inventory Account number: 1003\n"
          ]
        }
      ]
    },
    {
      "cell_type": "code",
      "source": [
        "account_numbers = {1001, 1002, 1003}\n",
        "new_account_number = 1004\n",
        "if new_account_number not in account_numbers:\n",
        "  print(\"Account number\", new_account_number, \"is not in use.\")\n"
      ],
      "metadata": {
        "colab": {
          "base_uri": "https://localhost:8080/"
        },
        "id": "KUHTyKg6IT3M",
        "outputId": "7c522cce-8873-43f2-f4a2-8ff4a3760d7a"
      },
      "execution_count": null,
      "outputs": [
        {
          "output_type": "stream",
          "name": "stdout",
          "text": [
            "Account number 1004 is not in use.\n"
          ]
        }
      ]
    },
    {
      "cell_type": "code",
      "source": [
        "# Python Dictionaries\n",
        "accounts = {\"1001\": {\"name\": \"Cash\", \"balance\": 500.00, \"type\": \"Asset\"},\n",
        "\"1002\": {\"name\": \"Accounts Receivable\", \"balance\": 1000.00, \"type\": \"Asset\"},\n",
        "\"2001\": {\"name\": \"Accounts Payable\", \"balance\": 750.00, \"type\": \"Liability\"}}\n",
        "rows = [] # Initialize an empty list to store the rows\n",
        "for account_number, account_info in accounts.items():\n",
        "  print(\"Account number:\", account_number)\n",
        "  print(\"Account name:\", account_info[\"name\"])\n",
        "  print(\"Account balance:\", account_info[\"balance\"])\n",
        "  print(\"Account type:\", account_info[\"type\"])\n",
        "  print(\"-\"*20)\n",
        "  row = {'number': account_number, **account_info}\n",
        "  rows.append(row) # Append the dictionary to the list\n",
        "\n",
        "# You can now use the 'rows' list, for example, to create a pandas DataFrame:\n",
        "# import pandas as pd\n",
        "# df = pd.DataFrame(rows)\n",
        "# display(df)"
      ],
      "metadata": {
        "colab": {
          "base_uri": "https://localhost:8080/"
        },
        "id": "qffLDuTJIpiM",
        "outputId": "6f504d68-7cc0-4e9f-94c8-5e83d0fd7c4a"
      },
      "execution_count": null,
      "outputs": [
        {
          "output_type": "stream",
          "name": "stdout",
          "text": [
            "Account number: 1001\n",
            "Account name: Cash\n",
            "Account balance: 500.0\n",
            "Account type: Asset\n",
            "--------------------\n",
            "Account number: 1002\n",
            "Account name: Accounts Receivable\n",
            "Account balance: 1000.0\n",
            "Account type: Asset\n",
            "--------------------\n",
            "Account number: 2001\n",
            "Account name: Accounts Payable\n",
            "Account balance: 750.0\n",
            "Account type: Liability\n",
            "--------------------\n"
          ]
        }
      ]
    },
    {
      "cell_type": "code",
      "source": [
        "# Python if else\n",
        "score = 80\n",
        "if score >=60 :\n",
        "  print(\"Pass\")\n",
        "else:\n",
        "  print(\"Fail\")\n",
        "\n",
        "  # Python if else\n",
        "score = 80\n",
        "if score >=90 :\n",
        "  print(\"A\")\n",
        "elif score >=60:\n",
        "  print(\"P\")\n",
        "else:\n",
        "  print(\"F\")\n",
        "\n",
        "for i in range(1,6):\n",
        "  print(i)\n",
        "\n",
        "\n"
      ],
      "metadata": {
        "colab": {
          "base_uri": "https://localhost:8080/",
          "height": 108
        },
        "id": "MvZ4zk6pLXrN",
        "outputId": "96d3ae9a-a5ac-42c2-b3de-d13bf7adf2f2"
      },
      "execution_count": null,
      "outputs": [
        {
          "output_type": "error",
          "ename": "IndentationError",
          "evalue": "expected an indented block after 'for' statement on line 21 (ipython-input-942235324.py, line 22)",
          "traceback": [
            "\u001b[0;36m  File \u001b[0;32m\"/tmp/ipython-input-942235324.py\"\u001b[0;36m, line \u001b[0;32m22\u001b[0m\n\u001b[0;31m    for j in range(1,10):\u001b[0m\n\u001b[0m    ^\u001b[0m\n\u001b[0;31mIndentationError\u001b[0m\u001b[0;31m:\u001b[0m expected an indented block after 'for' statement on line 21\n"
          ]
        }
      ]
    },
    {
      "cell_type": "code",
      "source": [
        "# for loops\n",
        "for i in range(1, 10):\n",
        "    for j in range(1, 10):\n",
        "      print(i, ' * ' , j , ' = ', i*j)\n",
        "    print(\"-\"*50)"
      ],
      "metadata": {
        "colab": {
          "base_uri": "https://localhost:8080/"
        },
        "id": "cgrUEbuzNKet",
        "outputId": "c930b4f8-06ba-401c-d43a-b188a2a43846"
      },
      "execution_count": null,
      "outputs": [
        {
          "output_type": "stream",
          "name": "stdout",
          "text": [
            "1  *  1  =  1\n",
            "1  *  2  =  2\n",
            "1  *  3  =  3\n",
            "1  *  4  =  4\n",
            "1  *  5  =  5\n",
            "1  *  6  =  6\n",
            "1  *  7  =  7\n",
            "1  *  8  =  8\n",
            "1  *  9  =  9\n",
            "--------------------------------------------------\n",
            "2  *  1  =  2\n",
            "2  *  2  =  4\n",
            "2  *  3  =  6\n",
            "2  *  4  =  8\n",
            "2  *  5  =  10\n",
            "2  *  6  =  12\n",
            "2  *  7  =  14\n",
            "2  *  8  =  16\n",
            "2  *  9  =  18\n",
            "--------------------------------------------------\n",
            "3  *  1  =  3\n",
            "3  *  2  =  6\n",
            "3  *  3  =  9\n",
            "3  *  4  =  12\n",
            "3  *  5  =  15\n",
            "3  *  6  =  18\n",
            "3  *  7  =  21\n",
            "3  *  8  =  24\n",
            "3  *  9  =  27\n",
            "--------------------------------------------------\n",
            "4  *  1  =  4\n",
            "4  *  2  =  8\n",
            "4  *  3  =  12\n",
            "4  *  4  =  16\n",
            "4  *  5  =  20\n",
            "4  *  6  =  24\n",
            "4  *  7  =  28\n",
            "4  *  8  =  32\n",
            "4  *  9  =  36\n",
            "--------------------------------------------------\n",
            "5  *  1  =  5\n",
            "5  *  2  =  10\n",
            "5  *  3  =  15\n",
            "5  *  4  =  20\n",
            "5  *  5  =  25\n",
            "5  *  6  =  30\n",
            "5  *  7  =  35\n",
            "5  *  8  =  40\n",
            "5  *  9  =  45\n",
            "--------------------------------------------------\n",
            "6  *  1  =  6\n",
            "6  *  2  =  12\n",
            "6  *  3  =  18\n",
            "6  *  4  =  24\n",
            "6  *  5  =  30\n",
            "6  *  6  =  36\n",
            "6  *  7  =  42\n",
            "6  *  8  =  48\n",
            "6  *  9  =  54\n",
            "--------------------------------------------------\n",
            "7  *  1  =  7\n",
            "7  *  2  =  14\n",
            "7  *  3  =  21\n",
            "7  *  4  =  28\n",
            "7  *  5  =  35\n",
            "7  *  6  =  42\n",
            "7  *  7  =  49\n",
            "7  *  8  =  56\n",
            "7  *  9  =  63\n",
            "--------------------------------------------------\n",
            "8  *  1  =  8\n",
            "8  *  2  =  16\n",
            "8  *  3  =  24\n",
            "8  *  4  =  32\n",
            "8  *  5  =  40\n",
            "8  *  6  =  48\n",
            "8  *  7  =  56\n",
            "8  *  8  =  64\n",
            "8  *  9  =  72\n",
            "--------------------------------------------------\n",
            "9  *  1  =  9\n",
            "9  *  2  =  18\n",
            "9  *  3  =  27\n",
            "9  *  4  =  36\n",
            "9  *  5  =  45\n",
            "9  *  6  =  54\n",
            "9  *  7  =  63\n",
            "9  *  8  =  72\n",
            "9  *  9  =  81\n",
            "--------------------------------------------------\n"
          ]
        }
      ]
    },
    {
      "cell_type": "code",
      "source": [
        "# Python Function def\n",
        "# indentation for blocks. four spaces\n",
        "def getfv(pv, r, n):\n",
        "  fv = pv * ((1 + (r)) ** n)\n",
        "  return fv\n",
        "fv = getfv(100, 0.1, 7)\n",
        "print(round(fv, 2))"
      ],
      "metadata": {
        "colab": {
          "base_uri": "https://localhost:8080/"
        },
        "id": "blIwtxAXN3yv",
        "outputId": "1d2b651a-68c3-405c-9d65-96db6f7ad333"
      },
      "execution_count": null,
      "outputs": [
        {
          "metadata": {
            "tags": null
          },
          "name": "stdout",
          "output_type": "stream",
          "text": [
            "194.87\n"
          ]
        }
      ]
    },
    {
      "cell_type": "code",
      "source": [
        "class Person:\n",
        "def __init__(self, name, age):\n",
        "self.name = name\n",
        "self.age = age\n",
        "p1 = Person(\"Alan\", 20)\n",
        "print(p1.name)\n",
        "print(p1.age)"
      ],
      "metadata": {
        "id": "2s1BajFRPBOs"
      },
      "execution_count": null,
      "outputs": []
    },
    {
      "cell_type": "code",
      "source": [],
      "metadata": {
        "id": "gR-PrwYxTyE3"
      },
      "execution_count": null,
      "outputs": []
    }
  ]
}